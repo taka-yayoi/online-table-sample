{
 "cells": [
  {
   "cell_type": "markdown",
   "metadata": {
    "application/vnd.databricks.v1+cell": {
     "cellMetadata": {
      "byteLimit": 2048000,
      "rowLimit": 10000
     },
     "inputWidgets": {},
     "nuid": "cdcde834-b622-40fd-8320-c42e4869aec4",
     "showTitle": false,
     "tableResultSettingsMap": {},
     "title": ""
    }
   },
   "source": [
    "# オンライン特徴量ストアのサンプルノートブック\n",
    "\n",
    "このノートブックは、Databricks Feature Storeを使用して、リアルタイムサービングと自動特徴量ルックアップのためにDatabricksオンラインテーブルに特徴量を公開する方法を示しています。問題は、さまざまな静的なワインの特徴量とリアルタイム入力を使用して、MLモデルでワインの品質を予測することです。\n",
    "\n",
    "このノートブックは、IDとリアルタイム特徴量であるアルコール度数（ABV）を与えられたワインボトルの品質を予測するエンドポイントを作成します。\n",
    "\n",
    "ノートブックの構成は次のとおりです：\n",
    "\n",
    "1. 特徴量テーブルの準備。\n",
    "2. Databricks Online Tableのセットアップ。\n",
    "    * このノートブックはDatabricks Online Tablesを使用します。サポートされている機能のリストについては、Databricksのドキュメントを参照してください（[AWS](https://docs.databricks.com/aws/ja/machine-learning/feature-store/online-tables) | [Azure](https://learn.microsoft.com/ja-jp/azure/databricks/machine-learning/feature-store/online-tables)）。  \n",
    "3. モデルのトレーニングとデプロイ。\n",
    "4. 自動特徴量ルックアップを使用したリアルタイムクエリの提供。\n",
    "5. クリーンアップ。\n",
    "\n",
    "### データセット\n",
    "\n",
    "この例では、[Wine Quality Data Set](https://archive.ics.uci.edu/ml/datasets/wine+quality)を使用します。\n",
    "\n",
    "### 要件\n",
    "\n",
    "* サーバーレスコンピュート（[AWS](https://docs.databricks.com/aws/ja/compute/serverless) | [Azure](https://learn.microsoft.com/ja-jp/azure/databricks/compute/serverless/)） (_推奨_)\n",
    "* Databricks Runtime 14.2 for Machine Learning以上を実行するクラシックコンピュート。"
   ]
  },
  {
   "cell_type": "markdown",
   "metadata": {
    "application/vnd.databricks.v1+cell": {
     "cellMetadata": {},
     "inputWidgets": {},
     "nuid": "326b4077-6574-4b16-84a6-00849b08b764",
     "showTitle": false,
     "tableResultSettingsMap": {},
     "title": ""
    }
   },
   "source": []
  },
  {
   "cell_type": "markdown",
   "metadata": {
    "application/vnd.databricks.v1+cell": {
     "cellMetadata": {
      "byteLimit": 2048000,
      "rowLimit": 10000
     },
     "inputWidgets": {},
     "nuid": "656d19cb-e0b6-4b3b-8117-d299f4d95f06",
     "showTitle": false,
     "tableResultSettingsMap": {},
     "title": ""
    }
   },
   "source": [
    "<img src=\"https://docs.databricks.com/_static/images/machine-learning/feature-store/online-tables-nb-diagram.png\"/>"
   ]
  },
  {
   "cell_type": "code",
   "execution_count": 0,
   "metadata": {
    "application/vnd.databricks.v1+cell": {
     "cellMetadata": {
      "byteLimit": 2048000,
      "rowLimit": 10000
     },
     "inputWidgets": {},
     "nuid": "31db224e-7eee-418a-a8b4-db81a6e9cb39",
     "showTitle": false,
     "tableResultSettingsMap": {},
     "title": ""
    }
   },
   "outputs": [],
   "source": [
    "%pip install databricks-sdk==0.41.0\n",
    "%pip install databricks-feature-engineering==0.8.0\n",
    "%pip install mlflow>=2.9.0\n",
    "dbutils.library.restartPython()"
   ]
  },
  {
   "cell_type": "markdown",
   "metadata": {
    "application/vnd.databricks.v1+cell": {
     "cellMetadata": {
      "byteLimit": 2048000,
      "rowLimit": 10000
     },
     "inputWidgets": {},
     "nuid": "3d5764d8-a202-40ac-a4cb-9f32a35a70ed",
     "showTitle": false,
     "tableResultSettingsMap": {},
     "title": ""
    }
   },
   "source": [
    "\n",
    "## 特徴量テーブルの準備\n",
    "\n",
    "`wine_id`だけでワインの品質を予測するエンドポイントを構築する必要があるとします。これには、エンドポイントが`wine_id`でワインの特徴を検索できるように、Feature Storeに保存された特徴量テーブルが必要です。このデモの目的のために、まずこの特徴量テーブルを自分で準備する必要があります。手順は次のとおりです：\n",
    "\n",
    "1. 生データを読み込み、クリーンアップする。\n",
    "2. 特徴量とラベルを分離する。\n",
    "3. 特徴量を特徴量テーブルに保存する。"
   ]
  },
  {
   "cell_type": "markdown",
   "metadata": {
    "application/vnd.databricks.v1+cell": {
     "cellMetadata": {
      "byteLimit": 2048000,
      "rowLimit": 10000
     },
     "inputWidgets": {},
     "nuid": "c056b1cd-0152-44aa-9ea9-6089c1f0771a",
     "showTitle": false,
     "tableResultSettingsMap": {},
     "title": ""
    }
   },
   "source": [
    "### 生データの読み込みとクリーンアップ\n",
    "\n",
    "生データには11の特徴量と`quality`列を含む12列があります。`quality`列は3から8の範囲の整数です。目標は`quality`値を予測するモデルを構築することです。"
   ]
  },
  {
   "cell_type": "code",
   "execution_count": 0,
   "metadata": {
    "application/vnd.databricks.v1+cell": {
     "cellMetadata": {
      "byteLimit": 2048000,
      "rowLimit": 10000
     },
     "inputWidgets": {},
     "nuid": "3ccdea09-0fbe-4daf-8eaf-bab43d57f255",
     "showTitle": false,
     "tableResultSettingsMap": {},
     "title": ""
    }
   },
   "outputs": [],
   "source": [
    "raw_data_frame = spark.read.load(\"/databricks-datasets/wine-quality/winequality-red.csv\",format=\"csv\",sep=\";\",inferSchema=\"true\",header=\"true\" )\n",
    "display(raw_data_frame.limit(10))"
   ]
  },
  {
   "cell_type": "code",
   "execution_count": 0,
   "metadata": {
    "application/vnd.databricks.v1+cell": {
     "cellMetadata": {
      "byteLimit": 2048000,
      "rowLimit": 10000
     },
     "inputWidgets": {},
     "nuid": "486b0eaf-2385-49d4-bd25-2bdd35e6e2ee",
     "showTitle": false,
     "tableResultSettingsMap": {},
     "title": ""
    }
   },
   "outputs": [],
   "source": [
    "# 生データのサイズを確認します。\n",
    "raw_data_frame.count(), len(raw_data_frame.columns)"
   ]
  },
  {
   "cell_type": "markdown",
   "metadata": {
    "application/vnd.databricks.v1+cell": {
     "cellMetadata": {
      "byteLimit": 2048000,
      "rowLimit": 10000
     },
     "inputWidgets": {},
     "nuid": "30250865-3437-4c33-b6ba-46e5f709d1fd",
     "showTitle": false,
     "tableResultSettingsMap": {},
     "title": ""
    }
   },
   "source": [
    "生データにはいくつかの問題があります：\n",
    "1. 列名にスペース（' '）が含まれており、これはFeature Storeと互換性がありません。\n",
    "2. 後でFeature Storeで検索できるように、生データにIDを追加する必要があります。\n",
    "\n",
    "次のセルでは、これらの問題に対処します。"
   ]
  },
  {
   "cell_type": "code",
   "execution_count": 0,
   "metadata": {
    "application/vnd.databricks.v1+cell": {
     "cellMetadata": {
      "byteLimit": 2048000,
      "rowLimit": 10000
     },
     "inputWidgets": {},
     "nuid": "08c73038-0555-4498-b766-9cf741eafce3",
     "showTitle": true,
     "tableResultSettingsMap": {},
     "title": "Sparkデータフレームの前処理"
    }
   },
   "outputs": [],
   "source": [
    "from sklearn.preprocessing import MinMaxScaler\n",
    "from pyspark.sql.functions import monotonically_increasing_id\n",
    "\n",
    "# ID列を追加する関数\n",
    "def addIdColumn(dataframe, id_column_name):\n",
    "    columns = dataframe.columns\n",
    "    new_df = dataframe.withColumn(id_column_name, monotonically_increasing_id())\n",
    "    return new_df[[id_column_name] + columns]\n",
    "\n",
    "# 列名を変更する関数\n",
    "def renameColumns(df):\n",
    "    renamed_df = df\n",
    "    for column in df.columns:\n",
    "        renamed_df = renamed_df.withColumnRenamed(column, column.replace(' ', '_'))\n",
    "    return renamed_df\n",
    "\n",
    "# 列名をFeature Storeに対応するように変更\n",
    "renamed_df = renameColumns(raw_data_frame)\n",
    "\n",
    "# ID列を追加\n",
    "id_and_data = addIdColumn(renamed_df, 'wine_id')\n",
    "\n",
    "display(id_and_data)"
   ]
  },
  {
   "cell_type": "markdown",
   "metadata": {
    "application/vnd.databricks.v1+cell": {
     "cellMetadata": {
      "byteLimit": 2048000,
      "rowLimit": 10000
     },
     "inputWidgets": {},
     "nuid": "7aa9c554-7570-4416-9ae9-2998e199907a",
     "showTitle": false,
     "tableResultSettingsMap": {},
     "title": ""
    }
   },
   "source": [
    "ワインが開封された後、アルコール度数（ABV）は時間とともに変化する変数であると仮定します。この値はオンライン推論のためにリアルタイム入力として提供されます。\n",
    "\n",
    "次に、データを2つの部分に分割し、静的特徴を含む部分のみをFeature Storeに保存します。"
   ]
  },
  {
   "cell_type": "code",
   "execution_count": 0,
   "metadata": {
    "application/vnd.databricks.v1+cell": {
     "cellMetadata": {
      "byteLimit": 2048000,
      "rowLimit": 10000
     },
     "inputWidgets": {},
     "nuid": "b35f09ab-c062-46d9-80ca-81fa2b42dff2",
     "showTitle": false,
     "tableResultSettingsMap": {},
     "title": ""
    }
   },
   "outputs": [],
   "source": [
    "# wine_idと静的特徴量\n",
    "id_static_features = id_and_data.drop('alcohol', 'quality')\n",
    "\n",
    "# wine_id、リアルタイム特徴量（alcohol）、ラベル（quality）\n",
    "id_rt_feature_labels = id_and_data.select('wine_id', 'alcohol', 'quality')"
   ]
  },
  {
   "cell_type": "markdown",
   "metadata": {
    "application/vnd.databricks.v1+cell": {
     "cellMetadata": {
      "byteLimit": 2048000,
      "rowLimit": 10000
     },
     "inputWidgets": {},
     "nuid": "3de5f19b-435e-4608-a2dc-d93a4903ca47",
     "showTitle": false,
     "tableResultSettingsMap": {},
     "title": ""
    }
   },
   "source": [
    "### 特徴量テーブルを作成する\n",
    "\n",
    "特徴量データ `id_static_features` を特徴量テーブルに保存します。"
   ]
  },
  {
   "cell_type": "code",
   "execution_count": 0,
   "metadata": {
    "application/vnd.databricks.v1+cell": {
     "cellMetadata": {
      "byteLimit": 2048000,
      "rowLimit": 10000
     },
     "inputWidgets": {},
     "nuid": "a6a1b643-daa3-4eaa-8162-f8ac88d0431b",
     "showTitle": false,
     "tableResultSettingsMap": {},
     "title": ""
    }
   },
   "outputs": [],
   "source": [
    "# カタログに対する `CREATE CATALOG` 権限が必要です。\n",
    "# 必要に応じて、ここでカタログとスキーマ名を変更してください。\n",
    "username = spark.sql(\"SELECT current_user()\").first()[\"current_user()\"]\n",
    "username = username.split(\".\")[0]\n",
    "\n",
    "# 既存のカタログを使います\n",
    "catalog_name = \"users\"\n",
    "\n",
    "# スキーマ名として使用するユーザー名を取得します。\n",
    "schema_name = \"takaaki_yayoi\"\n",
    "\n",
    "#spark.sql(f\"CREATE CATALOG IF NOT EXISTS {catalog_name}\")\n",
    "spark.sql(f\"USE CATALOG {catalog_name}\")\n",
    "#spark.sql(f\"CREATE DATABASE IF NOT EXISTS {catalog_name}.{schema_name}\")\n",
    "spark.sql(f\"USE SCHEMA {schema_name}\")"
   ]
  },
  {
   "cell_type": "code",
   "execution_count": 0,
   "metadata": {
    "application/vnd.databricks.v1+cell": {
     "cellMetadata": {
      "byteLimit": 2048000,
      "rowLimit": 10000
     },
     "inputWidgets": {},
     "nuid": "9d6b01fc-2180-4019-b0df-148963fb8b37",
     "showTitle": false,
     "tableResultSettingsMap": {},
     "title": ""
    }
   },
   "outputs": [],
   "source": [
    "from databricks.feature_engineering import FeatureEngineeringClient\n",
    "\n",
    "wine_table = f\"{catalog_name}.{schema_name}.wine_static_features\"\n",
    "online_table_name = f\"{catalog_name}.{schema_name}.wine_static_features_online\"\n",
    "fe = FeatureEngineeringClient()\n",
    "fe.create_table(\n",
    "    name=wine_table,\n",
    "    primary_keys=[\"wine_id\"],\n",
    "    df=id_static_features,\n",
    "    description=\"すべてのワインのIDと特徴量\",\n",
    ")"
   ]
  },
  {
   "cell_type": "markdown",
   "metadata": {
    "application/vnd.databricks.v1+cell": {
     "cellMetadata": {
      "byteLimit": 2048000,
      "rowLimit": 10000
     },
     "inputWidgets": {},
     "nuid": "227a25b2-db52-4076-a71d-f937da1e1dbc",
     "showTitle": false,
     "tableResultSettingsMap": {},
     "title": ""
    }
   },
   "source": [
    "特徴量データは特徴量テーブルに保存されました。次のステップは、Databricksオンラインテーブルを設定することです。"
   ]
  },
  {
   "cell_type": "markdown",
   "metadata": {
    "application/vnd.databricks.v1+cell": {
     "cellMetadata": {
      "byteLimit": 2048000,
      "rowLimit": 10000
     },
     "inputWidgets": {},
     "nuid": "6c4b9bf0-7e4f-46f8-a5a4-45418a111048",
     "showTitle": false,
     "tableResultSettingsMap": {},
     "title": ""
    }
   },
   "source": [
    "## Databricksオンラインテーブルの設定\n",
    "\n",
    "カタログエクスプローラーUI、Databricks SDK、またはRest APIからオンラインテーブルを作成できます。以下に、Databricks Python SDKを使用する手順を説明します。詳細については、Databricksのドキュメントを参照してください（[AWS](https://docs.databricks.com/en/machine-learning/feature-store/online-tables.html#create) | [Azure](https://learn.microsoft.com/azure/databricks/machine-learning/feature-store/online-tables#create)）。必要な権限については、権限に関する情報を参照してください（[AWS](https://docs.databricks.com/en/machine-learning/feature-store/online-tables.html#user-permissions) | [Azure](https://learn.microsoft.com/azure/databricks/machine-learning/feature-store/online-tables#user-permissions)）。"
   ]
  },
  {
   "cell_type": "code",
   "execution_count": 0,
   "metadata": {
    "application/vnd.databricks.v1+cell": {
     "cellMetadata": {
      "byteLimit": 2048000,
      "rowLimit": 10000
     },
     "inputWidgets": {},
     "nuid": "bb5f86a3-adae-4f15-891b-2e567b1c2c1f",
     "showTitle": true,
     "tableResultSettingsMap": {},
     "title": "Databricksオンラインテーブルの作成"
    }
   },
   "outputs": [],
   "source": [
    "from pprint import pprint\n",
    "from databricks.sdk import WorkspaceClient\n",
    "from databricks.sdk.service.catalog import OnlineTable, OnlineTableSpec, OnlineTableSpecTriggeredSchedulingPolicy\n",
    "\n",
    "workspace = WorkspaceClient()\n",
    "\n",
    "# オンラインテーブルを作成\n",
    "spec = OnlineTableSpec(\n",
    "  primary_key_columns = [\"wine_id\"],\n",
    "  source_table_full_name = wine_table,\n",
    "  run_triggered=OnlineTableSpecTriggeredSchedulingPolicy.from_dict({'triggered': 'true'}),\n",
    "  perform_full_copy=True)\n",
    "\n",
    "online_table = OnlineTable(name=online_table_name, spec=spec)\n",
    "\n",
    "try:\n",
    "  workspace.online_tables.create_and_wait(table=online_table)\n",
    "  \n",
    "except Exception as e:\n",
    "  if \"already exists\" in str(e):\n",
    "    print(f\"オンラインテーブル {online_table_name} は既に存在します。再作成しません。\")  \n",
    "  else:\n",
    "    raise e\n",
    "\n",
    "pprint(workspace.online_tables.get(online_table_name))"
   ]
  },
  {
   "cell_type": "markdown",
   "metadata": {
    "application/vnd.databricks.v1+cell": {
     "cellMetadata": {
      "byteLimit": 2048000,
      "rowLimit": 10000
     },
     "inputWidgets": {},
     "nuid": "f620438b-4786-4dbf-8175-64ffcdaeb15b",
     "showTitle": false,
     "tableResultSettingsMap": {},
     "title": ""
    }
   },
   "source": [
    "## モデルのトレーニングとデプロイ\n",
    "\n",
    "次に、Feature Storeの特徴量を使用して分類器をトレーニングします。主キーを指定するだけで、Feature Storeが必要な特徴量を取得します。"
   ]
  },
  {
   "cell_type": "code",
   "execution_count": 0,
   "metadata": {
    "application/vnd.databricks.v1+cell": {
     "cellMetadata": {
      "byteLimit": 2048000,
      "rowLimit": 10000
     },
     "inputWidgets": {},
     "nuid": "cf047801-c3ef-4467-a73a-f94e4a3fb744",
     "showTitle": false,
     "tableResultSettingsMap": {},
     "title": ""
    }
   },
   "outputs": [],
   "source": [
    "from sklearn.ensemble import RandomForestClassifier\n",
    "\n",
    "import pandas as pd\n",
    "import logging\n",
    "import mlflow.sklearn\n",
    "\n",
    "from databricks.feature_engineering import FeatureLookup"
   ]
  },
  {
   "cell_type": "markdown",
   "metadata": {
    "application/vnd.databricks.v1+cell": {
     "cellMetadata": {
      "byteLimit": 2048000,
      "rowLimit": 10000
     },
     "inputWidgets": {},
     "nuid": "eaace99e-b63a-4d0f-9a1e-367ec29630ad",
     "showTitle": false,
     "tableResultSettingsMap": {},
     "title": ""
    }
   },
   "source": [
    "まず、`TrainingSet`を定義します。トレーニングセットは`feature_lookups`リストを受け取り、各アイテムはFeature Store内の特徴量テーブルからの特徴量を表します。この例では、`wine_id`をルックアップキーとして使用し、テーブル`online_feature_store_example.wine_features`からすべての特徴量を取得します。"
   ]
  },
  {
   "cell_type": "code",
   "execution_count": 0,
   "metadata": {
    "application/vnd.databricks.v1+cell": {
     "cellMetadata": {
      "byteLimit": 2048000,
      "rowLimit": 10000
     },
     "inputWidgets": {},
     "nuid": "7d9efa22-b030-440b-ad64-bafaba99b301",
     "showTitle": true,
     "tableResultSettingsMap": {},
     "title": "ワイン品質トレーニングローダー"
    }
   },
   "outputs": [],
   "source": [
    "# トレーニングセットを作成\n",
    "training_set = fe.create_training_set(\n",
    "    df=id_rt_feature_labels,\n",
    "    label='quality',\n",
    "    feature_lookups=[\n",
    "        FeatureLookup(\n",
    "            table_name=f\"{catalog_name}.{schema_name}.wine_static_features\",\n",
    "            lookup_key=\"wine_id\"\n",
    "        )\n",
    "    ],\n",
    "    exclude_columns=['wine_id'],\n",
    ")\n",
    "\n",
    "# Feature Storeからトレーニングデータをロード\n",
    "training_df = training_set.load_df()\n",
    "\n",
    "display(training_df)"
   ]
  },
  {
   "cell_type": "markdown",
   "metadata": {
    "application/vnd.databricks.v1+cell": {
     "cellMetadata": {
      "byteLimit": 2048000,
      "rowLimit": 10000
     },
     "inputWidgets": {},
     "nuid": "123b57dd-1dc8-47f7-9619-6dcf89dfe345",
     "showTitle": false,
     "tableResultSettingsMap": {},
     "title": ""
    }
   },
   "source": [
    "次のセルでは、RandomForestClassifierモデルをトレーニングします。"
   ]
  },
  {
   "cell_type": "code",
   "execution_count": 0,
   "metadata": {
    "application/vnd.databricks.v1+cell": {
     "cellMetadata": {
      "byteLimit": 2048000,
      "rowLimit": 10000
     },
     "inputWidgets": {},
     "nuid": "9fe37d30-6f54-4ca3-91ab-c9da60035004",
     "showTitle": false,
     "tableResultSettingsMap": {},
     "title": ""
    }
   },
   "outputs": [],
   "source": [
    "# トレーニングデータの特徴量とラベルを準備\n",
    "X_train = training_df.drop('quality').toPandas()\n",
    "y_train = training_df.select('quality').toPandas()\n",
    "\n",
    "# モデルをトレーニング\n",
    "model = RandomForestClassifier()\n",
    "model.fit(X_train, y_train.values.ravel())"
   ]
  },
  {
   "cell_type": "markdown",
   "metadata": {
    "application/vnd.databricks.v1+cell": {
     "cellMetadata": {
      "byteLimit": 2048000,
      "rowLimit": 10000
     },
     "inputWidgets": {},
     "nuid": "6eb161af-8664-4095-8e0f-7de31a0724f1",
     "showTitle": false,
     "tableResultSettingsMap": {},
     "title": ""
    }
   },
   "source": [
    "トレーニング済みモデルを`log_model`を使用して保存します。`log_model`は、モデルと特徴量（`training_set`を通じて）の間の系統情報も保存します。そのため、サービング中にモデルはルックアップキーだけで特徴量をどこから取得するかを自動的に認識します。"
   ]
  },
  {
   "cell_type": "code",
   "execution_count": 0,
   "metadata": {
    "application/vnd.databricks.v1+cell": {
     "cellMetadata": {
      "byteLimit": 2048000,
      "rowLimit": 10000
     },
     "inputWidgets": {},
     "nuid": "b8d2d830-3819-43b7-b89e-9c689cce3fd2",
     "showTitle": true,
     "tableResultSettingsMap": {},
     "title": "MLflowへのモデル登録"
    }
   },
   "outputs": [],
   "source": [
    "import mlflow\n",
    "\n",
    "mlflow.set_registry_uri(\"databricks-uc\")\n",
    "\n",
    "registered_model_name = f\"{catalog_name}.{schema_name}.wine_classifier\"\n",
    "fe.log_model(\n",
    "    model=model,\n",
    "    artifact_path=\"model\",\n",
    "    flavor=mlflow.sklearn,\n",
    "    training_set=training_set,\n",
    "    registered_model_name=registered_model_name\n",
    ")\n",
    "\n",
    "# 最新のモデルバージョンを取得\n",
    "client = mlflow.tracking.MlflowClient()\n",
    "versions = client.search_model_versions(f\"name='{registered_model_name}'\")\n",
    "registered_model_version = max(int(v.version) for v in versions)"
   ]
  },
  {
   "cell_type": "markdown",
   "metadata": {
    "application/vnd.databricks.v1+cell": {
     "cellMetadata": {
      "byteLimit": 2048000,
      "rowLimit": 10000
     },
     "inputWidgets": {},
     "nuid": "00a67ea3-0a6a-43a4-ad5f-f25a3786273b",
     "showTitle": false,
     "tableResultSettingsMap": {},
     "title": ""
    }
   },
   "source": [
    "## 自動特徴量ルックアップを使用したリアルタイムクエリの提供\n",
    "\n",
    "`log_model`を呼び出した後、新しいバージョンのモデルが保存されます。"
   ]
  },
  {
   "cell_type": "code",
   "execution_count": 0,
   "metadata": {
    "application/vnd.databricks.v1+cell": {
     "cellMetadata": {
      "byteLimit": 2048000,
      "rowLimit": 10000
     },
     "inputWidgets": {},
     "nuid": "a1a76a2f-d922-4aeb-a0da-731829fafdf6",
     "showTitle": true,
     "tableResultSettingsMap": {},
     "title": "ワイン分類器のセットアップ"
    }
   },
   "outputs": [],
   "source": [
    "from databricks.sdk import WorkspaceClient\n",
    "from databricks.sdk.service.serving import EndpointCoreConfigInput, ServedEntityInput\n",
    "\n",
    "# エンドポイントを作成\n",
    "endpoint_name = f\"{username}_wine_classifier_endpoint\"\n",
    "\n",
    "try:\n",
    "  status = workspace.serving_endpoints.create_and_wait(\n",
    "    name=endpoint_name,\n",
    "    config = EndpointCoreConfigInput(\n",
    "      served_entities=[\n",
    "        ServedEntityInput(\n",
    "            entity_name=registered_model_name,\n",
    "            entity_version=registered_model_version,\n",
    "            scale_to_zero_enabled=True,\n",
    "            workload_size=\"Small\"\n",
    "        )\n",
    "      ]\n",
    "    )\n",
    "  )\n",
    "  print(status)\n",
    "except Exception as e:\n",
    "  if \"already exists\" in str(e):\n",
    "    print(f\"エンドポイント {endpoint_name} は既に存在するため、作成しません。\")\n",
    "  else:\n",
    "    raise e"
   ]
  },
  {
   "cell_type": "markdown",
   "metadata": {
    "application/vnd.databricks.v1+cell": {
     "cellMetadata": {
      "byteLimit": 2048000,
      "rowLimit": 10000
     },
     "inputWidgets": {},
     "nuid": "6e290d3d-ab69-4497-bc10-79e0005d96d2",
     "showTitle": false,
     "tableResultSettingsMap": {},
     "title": ""
    }
   },
   "source": [
    "## クエリを送信する\n",
    "\n",
    "さて、ワインのボトルを開けて、ボトルから現在のABVを測定するセンサーがあるとします。モデルと自動特徴量ルックアップを使用したリアルタイムサービングを使用して、測定されたABV値をリアルタイム入力「alcohol」としてワインの品質を予測できます。"
   ]
  },
  {
   "cell_type": "code",
   "execution_count": 0,
   "metadata": {
    "application/vnd.databricks.v1+cell": {
     "cellMetadata": {
      "byteLimit": 2048000,
      "rowLimit": 10000
     },
     "inputWidgets": {},
     "nuid": "851f86d5-b2da-4a78-90e4-a55e7db149f3",
     "showTitle": true,
     "tableResultSettingsMap": {},
     "title": "ワイン予測器の呼び出し"
    }
   },
   "outputs": [],
   "source": [
    "import mlflow.deployments\n",
    "\n",
    "client = mlflow.deployments.get_deploy_client(\"databricks\")\n",
    "response = client.predict(\n",
    "    endpoint=endpoint_name,\n",
    "    inputs={\n",
    "        \"dataframe_records\": [\n",
    "            {\"wine_id\": 25, \"alcohol\": 7.9},\n",
    "            {\"wine_id\": 25, \"alcohol\": 11.0},\n",
    "            {\"wine_id\": 25, \"alcohol\": 27.9},\n",
    "        ]\n",
    "    },\n",
    ")\n",
    "\n",
    "pprint(response)"
   ]
  },
  {
   "cell_type": "markdown",
   "metadata": {
    "application/vnd.databricks.v1+cell": {
     "cellMetadata": {
      "byteLimit": 2048000,
      "rowLimit": 10000
     },
     "inputWidgets": {},
     "nuid": "dd4e1169-b117-4f89-8411-2173e0330909",
     "showTitle": false,
     "tableResultSettingsMap": {},
     "title": ""
    }
   },
   "source": [
    "### リクエスト形式とAPIバージョンに関する注意事項"
   ]
  },
  {
   "cell_type": "markdown",
   "metadata": {
    "application/vnd.databricks.v1+cell": {
     "cellMetadata": {
      "byteLimit": 2048000,
      "rowLimit": 10000
     },
     "inputWidgets": {},
     "nuid": "88c6c9b1-a709-4107-8863-9ed55651ebb1",
     "showTitle": false,
     "tableResultSettingsMap": {},
     "title": ""
    }
   },
   "source": [
    "リクエストフォーマットの例は以下の通りです:\n",
    "```\n",
    "{\"dataframe_split\": {\"index\": [0, 1, 2], \"columns\": [\"wine_id\", \"alcohol\"], \"data\": [[25, 7.9], [25, 11.0], [25, 27.9]]}}\n",
    "```\n",
    "\n",
    "Databricksモデルサービングの詳細はこちらをご覧ください([AWS](https://docs.databricks.com/en/machine-learning/model-serving/index.html)|[Azure](https://learn.microsoft.com/en-us/azure/databricks/machine-learning/model-serving/))。"
   ]
  },
  {
   "cell_type": "markdown",
   "metadata": {
    "application/vnd.databricks.v1+cell": {
     "cellMetadata": {
      "byteLimit": 2048000,
      "rowLimit": 10000
     },
     "inputWidgets": {},
     "nuid": "adc649e0-0418-4ea7-acef-2c376467b51d",
     "showTitle": false,
     "tableResultSettingsMap": {},
     "title": ""
    }
   },
   "source": [
    "## クリーンアップ\n",
    "\n",
    "このノートブックで作成したリソースをクリーンアップするには、次の手順に従ってください:\n",
    "\n",
    "1. Catalog ExplorerからDatabricksオンラインテーブルを削除します。  \n",
    "  a. 左側のサイドバーで、**Catalog**をクリックします。  \n",
    "  b. オンラインテーブルに移動します。  \n",
    "  c. ケバブメニューから**Delete**を選択します。  \n",
    "2. **Serving**タブからサービングエンドポイントを削除します。  \n",
    "  a. 左側のサイドバーで、**Serving**をクリックします。  \n",
    "  b. エンドポイントの名前をクリックします。  \n",
    "  c. ケバブメニューから**Delete**を選択します。"
   ]
  },
  {
   "cell_type": "code",
   "execution_count": 0,
   "metadata": {
    "application/vnd.databricks.v1+cell": {
     "cellMetadata": {
      "byteLimit": 2048000,
      "rowLimit": 10000
     },
     "inputWidgets": {},
     "nuid": "594ee5b3-8659-4143-ae8c-846ad848ceea",
     "showTitle": false,
     "tableResultSettingsMap": {},
     "title": ""
    }
   },
   "outputs": [],
   "source": [
    "#workspace.serving_endpoints.delete(name=endpoint_name)"
   ]
  },
  {
   "cell_type": "code",
   "execution_count": 0,
   "metadata": {
    "application/vnd.databricks.v1+cell": {
     "cellMetadata": {
      "byteLimit": 2048000,
      "rowLimit": 10000
     },
     "inputWidgets": {},
     "nuid": "e6120a22-c3d1-4eee-8550-6338e582fe83",
     "showTitle": false,
     "tableResultSettingsMap": {},
     "title": ""
    }
   },
   "outputs": [],
   "source": [
    "#workspace.online_tables.delete(name=online_table_name)"
   ]
  }
 ],
 "metadata": {
  "application/vnd.databricks.v1+notebook": {
   "computePreferences": null,
   "dashboards": [],
   "environmentMetadata": null,
   "language": "python",
   "notebookMetadata": {
    "pythonIndentUnit": 2
   },
   "notebookName": "online-tables",
   "widgets": {}
  },
  "language_info": {
   "name": "python"
  }
 },
 "nbformat": 4,
 "nbformat_minor": 0
}
